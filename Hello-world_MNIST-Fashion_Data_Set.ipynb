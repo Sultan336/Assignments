{
 "cells": [
  {
   "cell_type": "code",
   "execution_count": 28,
   "metadata": {},
   "outputs": [
    {
     "name": "stdout",
     "output_type": "stream",
     "text": [
      "Epoch 1/5\n",
      "469/469 [==============================] - 3s 6ms/step - loss: 0.0507 - accuracy: 0.0970\n",
      "Epoch 2/5\n",
      "469/469 [==============================] - 2s 5ms/step - loss: 3.9922e-06 - accuracy: 0.0986\n",
      "Epoch 3/5\n",
      "469/469 [==============================] - 2s 5ms/step - loss: 1.0224e-06 - accuracy: 0.1005\n",
      "Epoch 4/5\n",
      "469/469 [==============================] - 2s 5ms/step - loss: 4.7426e-07 - accuracy: 0.1018\n",
      "Epoch 5/5\n",
      "469/469 [==============================] - 3s 6ms/step - loss: 1.6499e-07 - accuracy: 0.1018\n",
      "313/313 [==============================] - 1s 2ms/step - loss: 17398.2891 - accuracy: 0.1000\n"
     ]
    },
    {
     "data": {
      "text/plain": [
       "[17398.2890625, 0.10000000149011612]"
      ]
     },
     "execution_count": 28,
     "metadata": {},
     "output_type": "execute_result"
    }
   ],
   "source": [
    "import tensorflow as tf\n",
    "mnist = tf.keras.datasets.fashion_mnist\n",
    "(training_images, training_labels), (test_images, test_labels) = mnist.load_data()\n",
    "# Normalization of data for faster processing\n",
    "training_images = training_images / 255.0\n",
    "training_labels = training_labels / 255.0\n",
    "# Creating a neural network \n",
    "model = tf.keras.models.Sequential([tf.keras.layers.Flatten(), #Flatten converts an N-D array into 1-D Array \n",
    "                                    tf.keras.layers.Dense(512,activation=tf.nn.relu), \n",
    "                                    tf.keras.layers.Dense(10,activation=tf.nn.softmax)\n",
    "    \n",
    "])\n",
    "\n",
    "#Compilation Step\n",
    "model.compile(optimizer= tf.keras.optimizers.Adam(),\n",
    "              loss = 'sparse_categorical_crossentropy',\n",
    "              metrics = ['accuracy']\n",
    "             )\n",
    "#Training the model\n",
    "model.fit(training_images,training_labels,epochs=5,batch_size=128)\n",
    "#Evaluationg the model against test Samples\n",
    "model.evaluate(test_images,test_labels)"
   ]
  }
 ],
 "metadata": {
  "kernelspec": {
   "display_name": "Python 3",
   "language": "python",
   "name": "python3"
  },
  "language_info": {
   "codemirror_mode": {
    "name": "ipython",
    "version": 3
   },
   "file_extension": ".py",
   "mimetype": "text/x-python",
   "name": "python",
   "nbconvert_exporter": "python",
   "pygments_lexer": "ipython3",
   "version": "3.8.5"
  }
 },
 "nbformat": 4,
 "nbformat_minor": 2
}
