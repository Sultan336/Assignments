{
 "cells": [
  {
   "cell_type": "markdown",
   "metadata": {},
   "source": [
    "# Car Price Prediction::"
   ]
  },
  {
   "cell_type": "markdown",
   "metadata": {},
   "source": [
    "Download dataset from this link:\n",
    "\n",
    "https://www.kaggle.com/hellbuoy/car-price-prediction"
   ]
  },
  {
   "cell_type": "markdown",
   "metadata": {},
   "source": [
    "# Problem Statement::"
   ]
  },
  {
   "cell_type": "markdown",
   "metadata": {},
   "source": [
    "A Chinese automobile company Geely Auto aspires to enter the US market by setting up their manufacturing unit there and producing cars locally to give competition to their US and European counterparts.\n",
    "\n",
    "They have contracted an automobile consulting company to understand the factors on which the pricing of cars depends. Specifically, they want to understand the factors affecting the pricing of cars in the American market, since those may be very different from the Chinese market. The company wants to know:\n",
    "\n",
    "Which variables are significant in predicting the price of a car\n",
    "How well those variables describe the price of a car\n",
    "Based on various market surveys, the consulting firm has gathered a large data set of different types of cars across the America market.\n",
    "\n",
    "# task::\n",
    "We are required to model the price of cars with the available independent variables. It will be used by the management to understand how exactly the prices vary with the independent variables. They can accordingly manipulate the design of the cars, the business strategy etc. to meet certain price levels. Further, the model will be a good way for management to understand the pricing dynamics of a new market."
   ]
  },
  {
   "cell_type": "markdown",
   "metadata": {},
   "source": [
    "# WORKFLOW ::"
   ]
  },
  {
   "cell_type": "markdown",
   "metadata": {},
   "source": [
    "1.Load Data\n",
    "\n",
    "2.Check Missing Values ( If Exist ; Fill each record with mean of its feature )\n",
    "\n",
    "3.Split into 50% Training(Samples,Labels) , 30% Test(Samples,Labels) and 20% Validation Data(Samples,Labels).\n",
    "\n",
    "4.Model : input Layer (No. of features ), 3 hidden layers including 10,8,6 unit & Output Layer with activation function relu/tanh (check by experiment).\n",
    "\n",
    "5.Compilation Step (Note : Its a Regression problem , select loss , metrics according to it)\n",
    "6.Train the Model with Epochs (100) and validate it\n",
    "\n",
    "7.If the model gets overfit tune your model by changing the units , No. of layers , activation function , epochs , add dropout layer or add Regularizer according to the need .\n",
    "\n",
    "8.Evaluation Step\n",
    "\n",
    "9.Prediction"
   ]
  },
  {
   "cell_type": "code",
   "execution_count": 1,
   "metadata": {},
   "outputs": [],
   "source": [
    "import numpy as np\n",
    "import pandas as pd\n",
    "import tensorflow.keras as keras\n",
    "from sklearn.preprocessing import LabelEncoder"
   ]
  },
  {
   "cell_type": "code",
   "execution_count": 2,
   "metadata": {},
   "outputs": [],
   "source": [
    "# 1.Load Data\n",
    "dataset = pd.read_csv(\"archive/CarPrice_Assignment.csv\")"
   ]
  },
  {
   "cell_type": "code",
   "execution_count": 3,
   "metadata": {},
   "outputs": [
    {
     "data": {
      "text/plain": [
       "car_ID              0\n",
       "symboling           0\n",
       "CarName             0\n",
       "fueltype            0\n",
       "aspiration          0\n",
       "doornumber          0\n",
       "carbody             0\n",
       "drivewheel          0\n",
       "enginelocation      0\n",
       "wheelbase           0\n",
       "carlength           0\n",
       "carwidth            0\n",
       "carheight           0\n",
       "curbweight          0\n",
       "enginetype          0\n",
       "cylindernumber      0\n",
       "enginesize          0\n",
       "fuelsystem          0\n",
       "boreratio           0\n",
       "stroke              0\n",
       "compressionratio    0\n",
       "horsepower          0\n",
       "peakrpm             0\n",
       "citympg             0\n",
       "highwaympg          0\n",
       "price               0\n",
       "dtype: int64"
      ]
     },
     "execution_count": 3,
     "metadata": {},
     "output_type": "execute_result"
    }
   ],
   "source": [
    "# 2.Check Missing Values\n",
    "dataset.isna().sum()"
   ]
  },
  {
   "cell_type": "code",
   "execution_count": 4,
   "metadata": {},
   "outputs": [
    {
     "name": "stdout",
     "output_type": "stream",
     "text": [
      "102 163\n",
      "     fueltype  aspiration  carbody  drivewheel  enginelocation  fuelsystem  \\\n",
      "0           1           0        0           2               0           5   \n",
      "1           1           0        0           2               0           5   \n",
      "2           1           0        2           2               0           5   \n",
      "3           1           0        3           1               0           5   \n",
      "4           1           0        3           0               0           5   \n",
      "..        ...         ...      ...         ...             ...         ...   \n",
      "200         1           0        3           2               0           5   \n",
      "201         1           1        3           2               0           5   \n",
      "202         1           0        3           2               0           5   \n",
      "203         0           1        3           2               0           3   \n",
      "204         1           1        3           2               0           5   \n",
      "\n",
      "     enginetype  cylindernumber  \n",
      "0             0               2  \n",
      "1             0               2  \n",
      "2             5               3  \n",
      "3             3               2  \n",
      "4             3               1  \n",
      "..          ...             ...  \n",
      "200           3               2  \n",
      "201           3               2  \n",
      "202           5               3  \n",
      "203           3               3  \n",
      "204           3               2  \n",
      "\n",
      "[205 rows x 8 columns]\n",
      "   car_ID  symboling  fueltype  aspiration  doornumber  carbody  drivewheel  \\\n",
      "0       1          3         1           0           2        0           2   \n",
      "1       2          3         1           0           2        0           2   \n",
      "2       3          1         1           0           2        2           2   \n",
      "3       4          2         1           0           4        3           1   \n",
      "4       5          2         1           0           4        3           0   \n",
      "\n",
      "   enginelocation  wheelbase  carlength  ...  enginesize  fuelsystem  \\\n",
      "0               0       88.6      168.8  ...         130           5   \n",
      "1               0       88.6      168.8  ...         130           5   \n",
      "2               0       94.5      171.2  ...         152           5   \n",
      "3               0       99.8      176.6  ...         109           5   \n",
      "4               0       99.4      176.6  ...         136           5   \n",
      "\n",
      "   boreratio  stroke  compressionratio  horsepower  peakrpm  citympg  \\\n",
      "0       3.47    2.68               9.0         111     5000       21   \n",
      "1       3.47    2.68               9.0         111     5000       21   \n",
      "2       2.68    3.47               9.0         154     5000       19   \n",
      "3       3.19    3.40              10.0         102     5500       24   \n",
      "4       3.19    3.40               8.0         115     5500       18   \n",
      "\n",
      "   highwaympg    price  \n",
      "0          27  13495.0  \n",
      "1          27  16500.0  \n",
      "2          26  16500.0  \n",
      "3          30  13950.0  \n",
      "4          22  17450.0  \n",
      "\n",
      "[5 rows x 25 columns]\n"
     ]
    }
   ],
   "source": [
    "def process_and_normalize_data(dataset, columns_to_remove, columns_to_process):\n",
    "    encoder = LabelEncoder()\n",
    "    dataset = dataset.drop(columns_to_remove, axis=1)\n",
    "    dataset[columns] = dataset[columns].apply(encoder.fit_transform)\n",
    "    print(dataset[columns])\n",
    "    return dataset\n",
    "\n",
    "TRAIN_SIZE = int(dataset.shape[0] * 0.5)\n",
    "TEST_SIZE = int(dataset.shape[0] * 0.3) + TRAIN_SIZE\n",
    "print(TRAIN_SIZE, TEST_SIZE)\n",
    "\n",
    "columns_to_remove = [\"CarName\"]\n",
    "columns = [\"fueltype\", \"aspiration\", \"carbody\", \"drivewheel\", \"enginelocation\", \"fuelsystem\", \"enginetype\", \"cylindernumber\"]\n",
    "\n",
    "c = [\"carlength\", \"carwidth\", \"carheight\", \"curbweight\", \"enginesize\", \"boreratio\", \"stroke\", \"compressionratio\",\"horsepower\", \"peakrpm\", \"citympg\", \"highwaympg\", \"price\"]\n",
    "mean = dataset[c].mean(axis=0)\n",
    "std = dataset[c].std(axis=0)\n",
    "\n",
    "dataset = process_and_normalize_data(dataset, columns_to_remove, columns)\n",
    "dataset['doornumber'] = dataset['doornumber'].map({'two':2,'four':4})\n",
    "print(dataset.head())\n",
    "y = dataset.price\n",
    "x = dataset.drop(\"price\", axis=1)\n",
    "\n"
   ]
  },
  {
   "cell_type": "code",
   "execution_count": 5,
   "metadata": {},
   "outputs": [],
   "source": [
    "# 3.Split into 50% Training(Samples,Labels) , 30% Test(Samples,Labels) and 20% Validation Data(Samples,Labels).\n",
    "y_train,y_test,y_val = y[:TRAIN_SIZE],y[TRAIN_SIZE:TEST_SIZE],y[TEST_SIZE:]\n",
    "x_train,x_test, x_val = x[:TRAIN_SIZE], x[TRAIN_SIZE:TEST_SIZE],x[TEST_SIZE:]"
   ]
  },
  {
   "cell_type": "code",
   "execution_count": 12,
   "metadata": {},
   "outputs": [],
   "source": [
    "# 4.Model : input Layer (No. of features ), 3 hidden layers including 10,8,6 unit & Output Layer with activation function relu/tanh\n",
    "def build_model():\n",
    "    model = keras.models.Sequential()\n",
    "    model.add(keras.layers.Dense(10, activation=\"relu\"))\n",
    "    model.add(keras.layers.Dense(8, activation=\"relu\"))\n",
    "    model.add(keras.layers.Dense(6, activation=\"relu\"))\n",
    "    model.add(keras.layers.Dense(1))\n",
    "#     5.Compilation Step \n",
    "    model.compile(optimizer=\"rmsprop\", metrics=[\"mae\"], loss=\"mse\")\n",
    "\n",
    "    return model"
   ]
  },
  {
   "cell_type": "code",
   "execution_count": 76,
   "metadata": {},
   "outputs": [
    {
     "name": "stdout",
     "output_type": "stream",
     "text": [
      "Epoch 1/20\n",
      "21/21 [==============================] - 1s 9ms/step - loss: 248316114.9091 - mae: 13035.2346 - val_loss: 175974416.0000 - val_mae: 12571.2529\n",
      "Epoch 2/20\n",
      "21/21 [==============================] - 0s 3ms/step - loss: 299189703.2727 - mae: 13882.6228 - val_loss: 170186624.0000 - val_mae: 12343.2217\n",
      "Epoch 3/20\n",
      "21/21 [==============================] - 0s 3ms/step - loss: 264581138.1818 - mae: 13312.7960 - val_loss: 165106768.0000 - val_mae: 12142.6084\n",
      "Epoch 4/20\n",
      "21/21 [==============================] - 0s 3ms/step - loss: 242938796.0000 - mae: 12573.9226 - val_loss: 158203344.0000 - val_mae: 11862.3291\n",
      "Epoch 5/20\n",
      "21/21 [==============================] - 0s 4ms/step - loss: 259218468.3636 - mae: 12772.8803 - val_loss: 150859216.0000 - val_mae: 11553.3125\n",
      "Epoch 6/20\n",
      "21/21 [==============================] - 0s 3ms/step - loss: 209512664.3636 - mae: 11553.0875 - val_loss: 142799936.0000 - val_mae: 11207.1768\n",
      "Epoch 7/20\n",
      "21/21 [==============================] - 0s 3ms/step - loss: 260192672.7273 - mae: 12796.4063 - val_loss: 134355232.0000 - val_mae: 10833.0938\n",
      "Epoch 8/20\n",
      "21/21 [==============================] - 0s 4ms/step - loss: 213488685.8182 - mae: 11524.4276 - val_loss: 124458496.0000 - val_mae: 10376.8379\n",
      "Epoch 9/20\n",
      "21/21 [==============================] - 0s 3ms/step - loss: 229537338.1818 - mae: 11423.1029 - val_loss: 113958208.0000 - val_mae: 9869.6777\n",
      "Epoch 10/20\n",
      "21/21 [==============================] - 0s 4ms/step - loss: 266348082.1818 - mae: 12449.8249 - val_loss: 103204280.0000 - val_mae: 9322.0547\n",
      "Epoch 11/20\n",
      "21/21 [==============================] - 0s 3ms/step - loss: 163378648.0000 - mae: 9653.2520 - val_loss: 90320280.0000 - val_mae: 8620.9775\n",
      "Epoch 12/20\n",
      "21/21 [==============================] - 0s 3ms/step - loss: 168657152.7273 - mae: 9505.2600 - val_loss: 78896920.0000 - val_mae: 7948.7319\n",
      "Epoch 13/20\n",
      "21/21 [==============================] - 0s 3ms/step - loss: 157896417.0909 - mae: 9083.8114 - val_loss: 67156184.0000 - val_mae: 7193.8052\n",
      "Epoch 14/20\n",
      "21/21 [==============================] - 0s 3ms/step - loss: 180382285.0909 - mae: 8572.9724 - val_loss: 55048496.0000 - val_mae: 6323.4375\n",
      "Epoch 15/20\n",
      "21/21 [==============================] - 0s 3ms/step - loss: 140403631.2727 - mae: 6942.2625 - val_loss: 43871576.0000 - val_mae: 5400.0234\n",
      "Epoch 16/20\n",
      "21/21 [==============================] - 0s 3ms/step - loss: 78456853.4773 - mae: 5172.3540 - val_loss: 33957328.0000 - val_mae: 4427.8643\n",
      "Epoch 17/20\n",
      "21/21 [==============================] - 0s 3ms/step - loss: 106264731.2727 - mae: 6340.0012 - val_loss: 25570234.0000 - val_mae: 3717.5271\n",
      "Epoch 18/20\n",
      "21/21 [==============================] - 0s 3ms/step - loss: 132546752.7273 - mae: 6974.7935 - val_loss: 21033742.0000 - val_mae: 3341.0618\n",
      "Epoch 19/20\n",
      "21/21 [==============================] - 0s 3ms/step - loss: 72751394.9091 - mae: 5240.5004 - val_loss: 16277521.0000 - val_mae: 3013.3894\n",
      "Epoch 20/20\n",
      "21/21 [==============================] - 0s 3ms/step - loss: 53190196.6364 - mae: 4822.0139 - val_loss: 13954216.0000 - val_mae: 2857.9243\n"
     ]
    }
   ],
   "source": [
    "model = build_model()\n",
    "#  6.Train the Model with Epochs (100) and validate it\n",
    "history = model.fit(x_train, y_train, validation_data=(x_val, y_val), epochs=20, batch_size=5, shuffle=True)"
   ]
  },
  {
   "cell_type": "code",
   "execution_count": 77,
   "metadata": {
    "scrolled": true
   },
   "outputs": [
    {
     "data": {
      "image/png": "[encoded data removed]",
      "text/plain": [
       "<Figure size 432x288 with 1 Axes>"
      ]
     },
     "metadata": {
      "needs_background": "light"
     },
     "output_type": "display_data"
    }
   ],
   "source": [
    "import matplotlib.pyplot as plt\n",
    "\n",
    "mae = history.history[\"mae\"]\n",
    "val_mae = history.history[\"val_mae\"]\n",
    "\n",
    "plt.plot(range(1, len(mae) + 1), mae)\n",
    "plt.plot(range(1, len(val_mae) + 1), val_mae)\n",
    "plt.xlabel('Epochs')\n",
    "plt.ylabel('Validation MAE')\n",
    "plt.show()"
   ]
  },
  {
   "cell_type": "code",
   "execution_count": 78,
   "metadata": {},
   "outputs": [
    {
     "name": "stdout",
     "output_type": "stream",
     "text": [
      "Mean Squared Error: 39885016.0\n",
      "Mean Absolute Error: 4284.85595703125\n"
     ]
    }
   ],
   "source": [
    "val_mse, val_mae = model.evaluate(x_test, y_test, verbose=0)\n",
    "print(\"Mean Squared Error:\",val_mse)\n",
    "print(\"Mean Absolute Error:\", val_mae)"
   ]
  },
  {
   "cell_type": "code",
   "execution_count": 93,
   "metadata": {},
   "outputs": [
    {
     "name": "stdout",
     "output_type": "stream",
     "text": [
      "Predicted Price:  [[13250.175]]\n",
      "actual price 18399.0\n"
     ]
    }
   ],
   "source": [
    "data_to_predict = x_test.to_numpy()[0]\n",
    "data_to_predict = data_to_predict.reshape((-1, 24))\n",
    "prediction = model.predict([np.array(data_to_predict)])\n",
    "print(\"Predicted Price: \", prediction)\n",
    "print(\"actual price\", y_test[106])"
   ]
  },
  {
   "cell_type": "code",
   "execution_count": null,
   "metadata": {},
   "outputs": [],
   "source": []
  }
 ],
 "metadata": {
  "kernelspec": {
   "display_name": "Python 3",
   "language": "python",
   "name": "python3"
  },
  "language_info": {
   "codemirror_mode": {
    "name": "ipython",
    "version": 3
   },
   "file_extension": ".py",
   "mimetype": "text/x-python",
   "name": "python",
   "nbconvert_exporter": "python",
   "pygments_lexer": "ipython3",
   "version": "3.8.5"
  }
 },
 "nbformat": 4,
 "nbformat_minor": 2
}
