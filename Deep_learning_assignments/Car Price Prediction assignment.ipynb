{
 "cells": [
  {
   "cell_type": "markdown",
   "metadata": {},
   "source": [
    "# Car Price Prediction::"
   ]
  },
  {
   "cell_type": "markdown",
   "metadata": {},
   "source": [
    "Download dataset from this link:\n",
    "\n",
    "https://www.kaggle.com/hellbuoy/car-price-prediction"
   ]
  },
  {
   "cell_type": "markdown",
   "metadata": {},
   "source": [
    "# Problem Statement::"
   ]
  },
  {
   "cell_type": "markdown",
   "metadata": {},
   "source": [
    "A Chinese automobile company Geely Auto aspires to enter the US market by setting up their manufacturing unit there and producing cars locally to give competition to their US and European counterparts.\n",
    "\n",
    "They have contracted an automobile consulting company to understand the factors on which the pricing of cars depends. Specifically, they want to understand the factors affecting the pricing of cars in the American market, since those may be very different from the Chinese market. The company wants to know:\n",
    "\n",
    "Which variables are significant in predicting the price of a car\n",
    "How well those variables describe the price of a car\n",
    "Based on various market surveys, the consulting firm has gathered a large data set of different types of cars across the America market.\n",
    "\n",
    "# task::\n",
    "We are required to model the price of cars with the available independent variables. It will be used by the management to understand how exactly the prices vary with the independent variables. They can accordingly manipulate the design of the cars, the business strategy etc. to meet certain price levels. Further, the model will be a good way for management to understand the pricing dynamics of a new market."
   ]
  },
  {
   "cell_type": "markdown",
   "metadata": {},
   "source": [
    "# WORKFLOW ::"
   ]
  },
  {
   "cell_type": "markdown",
   "metadata": {},
   "source": [
    "1.Load Data\n",
    "\n",
    "2.Check Missing Values ( If Exist ; Fill each record with mean of its feature )\n",
    "\n",
    "3.Split into 50% Training(Samples,Labels) , 30% Test(Samples,Labels) and 20% Validation Data(Samples,Labels).\n",
    "\n",
    "4.Model : input Layer (No. of features ), 3 hidden layers including 10,8,6 unit & Output Layer with activation function relu/tanh (check by experiment).\n",
    "\n",
    "5.Compilation Step (Note : Its a Regression problem , select loss , metrics according to it)\n",
    "6.Train the Model with Epochs (100) and validate it\n",
    "\n",
    "7.If the model gets overfit tune your model by changing the units , No. of layers , activation function , epochs , add dropout layer or add Regularizer according to the need .\n",
    "\n",
    "8.Evaluation Step\n",
    "\n",
    "9.Prediction"
   ]
  },
  {
   "cell_type": "code",
   "execution_count": 1,
   "metadata": {},
   "outputs": [],
   "source": [
    "import numpy as np\n",
    "import pandas as pd\n",
    "import tensorflow.keras as keras\n",
    "from sklearn.preprocessing import LabelEncoder"
   ]
  },
  {
   "cell_type": "code",
   "execution_count": 2,
   "metadata": {},
   "outputs": [],
   "source": [
    "# 1.Load Data\n",
    "dataset = pd.read_csv(\"archive/CarPrice_Assignment.csv\")"
   ]
  },
  {
   "cell_type": "code",
   "execution_count": 3,
   "metadata": {},
   "outputs": [
    {
     "data": {
      "text/plain": [
       "car_ID              0\n",
       "symboling           0\n",
       "CarName             0\n",
       "fueltype            0\n",
       "aspiration          0\n",
       "doornumber          0\n",
       "carbody             0\n",
       "drivewheel          0\n",
       "enginelocation      0\n",
       "wheelbase           0\n",
       "carlength           0\n",
       "carwidth            0\n",
       "carheight           0\n",
       "curbweight          0\n",
       "enginetype          0\n",
       "cylindernumber      0\n",
       "enginesize          0\n",
       "fuelsystem          0\n",
       "boreratio           0\n",
       "stroke              0\n",
       "compressionratio    0\n",
       "horsepower          0\n",
       "peakrpm             0\n",
       "citympg             0\n",
       "highwaympg          0\n",
       "price               0\n",
       "dtype: int64"
      ]
     },
     "execution_count": 3,
     "metadata": {},
     "output_type": "execute_result"
    }
   ],
   "source": [
    "# 2.Check Missing Values\n",
    "dataset.isna().sum()"
   ]
  },
  {
   "cell_type": "code",
   "execution_count": 4,
   "metadata": {},
   "outputs": [
    {
     "name": "stdout",
     "output_type": "stream",
     "text": [
      "102 163\n",
      "     fueltype  aspiration  carbody  drivewheel  enginelocation  fuelsystem  \\\n",
      "0           1           0        0           2               0           5   \n",
      "1           1           0        0           2               0           5   \n",
      "2           1           0        2           2               0           5   \n",
      "3           1           0        3           1               0           5   \n",
      "4           1           0        3           0               0           5   \n",
      "..        ...         ...      ...         ...             ...         ...   \n",
      "200         1           0        3           2               0           5   \n",
      "201         1           1        3           2               0           5   \n",
      "202         1           0        3           2               0           5   \n",
      "203         0           1        3           2               0           3   \n",
      "204         1           1        3           2               0           5   \n",
      "\n",
      "     enginetype  cylindernumber  \n",
      "0             0               2  \n",
      "1             0               2  \n",
      "2             5               3  \n",
      "3             3               2  \n",
      "4             3               1  \n",
      "..          ...             ...  \n",
      "200           3               2  \n",
      "201           3               2  \n",
      "202           5               3  \n",
      "203           3               3  \n",
      "204           3               2  \n",
      "\n",
      "[205 rows x 8 columns]\n",
      "   car_ID  symboling  fueltype  aspiration  doornumber  carbody  drivewheel  \\\n",
      "0       1          3         1           0           2        0           2   \n",
      "1       2          3         1           0           2        0           2   \n",
      "2       3          1         1           0           2        2           2   \n",
      "3       4          2         1           0           4        3           1   \n",
      "4       5          2         1           0           4        3           0   \n",
      "\n",
      "   enginelocation  wheelbase  carlength  ...  enginesize  fuelsystem  \\\n",
      "0               0       88.6      168.8  ...         130           5   \n",
      "1               0       88.6      168.8  ...         130           5   \n",
      "2               0       94.5      171.2  ...         152           5   \n",
      "3               0       99.8      176.6  ...         109           5   \n",
      "4               0       99.4      176.6  ...         136           5   \n",
      "\n",
      "   boreratio  stroke  compressionratio  horsepower  peakrpm  citympg  \\\n",
      "0       3.47    2.68               9.0         111     5000       21   \n",
      "1       3.47    2.68               9.0         111     5000       21   \n",
      "2       2.68    3.47               9.0         154     5000       19   \n",
      "3       3.19    3.40              10.0         102     5500       24   \n",
      "4       3.19    3.40               8.0         115     5500       18   \n",
      "\n",
      "   highwaympg    price  \n",
      "0          27  13495.0  \n",
      "1          27  16500.0  \n",
      "2          26  16500.0  \n",
      "3          30  13950.0  \n",
      "4          22  17450.0  \n",
      "\n",
      "[5 rows x 25 columns]\n"
     ]
    }
   ],
   "source": [
    "def process_and_normalize_data(dataset, columns_to_remove, columns_to_process):\n",
    "    encoder = LabelEncoder()\n",
    "    dataset = dataset.drop(columns_to_remove, axis=1)\n",
    "    dataset[columns] = dataset[columns].apply(encoder.fit_transform)\n",
    "    print(dataset[columns])\n",
    "    return dataset\n",
    "\n",
    "TRAIN_SIZE = int(dataset.shape[0] * 0.5)\n",
    "TEST_SIZE = int(dataset.shape[0] * 0.3) + TRAIN_SIZE\n",
    "print(TRAIN_SIZE, TEST_SIZE)\n",
    "\n",
    "columns_to_remove = [\"CarName\"]\n",
    "columns = [\"fueltype\", \"aspiration\", \"carbody\", \"drivewheel\", \"enginelocation\", \"fuelsystem\", \"enginetype\", \"cylindernumber\"]\n",
    "\n",
    "c = [\"carlength\", \"carwidth\", \"carheight\", \"curbweight\", \"enginesize\", \"boreratio\", \"stroke\", \"compressionratio\",\"horsepower\", \"peakrpm\", \"citympg\", \"highwaympg\", \"price\"]\n",
    "mean = dataset[c].mean(axis=0)\n",
    "std = dataset[c].std(axis=0)\n",
    "\n",
    "dataset = process_and_normalize_data(dataset, columns_to_remove, columns)\n",
    "dataset['doornumber'] = dataset['doornumber'].map({'two':2,'four':4})\n",
    "print(dataset.head())\n",
    "y = dataset.price\n",
    "x = dataset.drop(\"price\", axis=1)\n",
    "\n"
   ]
  },
  {
   "cell_type": "code",
   "execution_count": 5,
   "metadata": {},
   "outputs": [],
   "source": [
    "# 3.Split into 50% Training(Samples,Labels) , 30% Test(Samples,Labels) and 20% Validation Data(Samples,Labels).\n",
    "y_train,y_test,y_val = y[:TRAIN_SIZE],y[TRAIN_SIZE:TEST_SIZE],y[TEST_SIZE:]\n",
    "x_train,x_test, x_val = x[:TRAIN_SIZE], x[TRAIN_SIZE:TEST_SIZE],x[TEST_SIZE:]"
   ]
  },
  {
   "cell_type": "code",
   "execution_count": 52,
   "metadata": {},
   "outputs": [],
   "source": [
    "# 4.Model : input Layer (No. of features ), 3 hidden layers including 10,8,6 unit & Output Layer with activation function relu/tanh\n",
    "def build_model():\n",
    "    model = keras.models.Sequential()\n",
    "    model.add(keras.layers.Dense(32, input_shape=(24,)))\n",
    "    model.add(keras.layers.Dense(10, activation=\"relu\"))\n",
    "    model.add(keras.layers.Dense(8, activation=\"relu\"))\n",
    "    model.add(keras.layers.Dense(6, activation=\"relu\"))\n",
    "    model.add(keras.layers.Dense(1))\n",
    "#     5.Compilation Step \n",
    "    model.compile(optimizer=\"rmsprop\", metrics=[\"mae\"], loss=\"mse\")\n",
    "\n",
    "    return model"
   ]
  },
  {
   "cell_type": "code",
   "execution_count": 53,
   "metadata": {},
   "outputs": [
    {
     "name": "stdout",
     "output_type": "stream",
     "text": [
      "Epoch 1/100\n",
      "26/26 [==============================] - 1s 15ms/step - loss: 288422976.5926 - mae: 14036.6550 - val_loss: 126458880.0000 - val_mae: 10419.5264\n",
      "Epoch 2/100\n",
      "26/26 [==============================] - 0s 5ms/step - loss: 219772010.0741 - mae: 11060.3333 - val_loss: 75513008.0000 - val_mae: 7626.1606\n",
      "Epoch 3/100\n",
      "26/26 [==============================] - 0s 5ms/step - loss: 173113486.2222 - mae: 8762.4415 - val_loss: 33806432.0000 - val_mae: 4368.9375\n",
      "Epoch 4/100\n",
      "26/26 [==============================] - 0s 5ms/step - loss: 99165704.4444 - mae: 6123.5918 - val_loss: 16522502.0000 - val_mae: 3209.1216\n",
      "Epoch 5/100\n",
      "26/26 [==============================] - 0s 5ms/step - loss: 68325615.2593 - mae: 5900.1207 - val_loss: 15996945.0000 - val_mae: 3389.2495\n",
      "Epoch 6/100\n",
      "26/26 [==============================] - 0s 5ms/step - loss: 81556754.8148 - mae: 6776.3298 - val_loss: 17085056.0000 - val_mae: 3557.9224\n",
      "Epoch 7/100\n",
      "26/26 [==============================] - 0s 4ms/step - loss: 98492788.2963 - mae: 7604.2498 - val_loss: 15942293.0000 - val_mae: 3430.6458\n",
      "Epoch 8/100\n",
      "26/26 [==============================] - 0s 5ms/step - loss: 109996627.2593 - mae: 7592.6542 - val_loss: 15138091.0000 - val_mae: 3316.3162\n",
      "Epoch 9/100\n",
      "26/26 [==============================] - 0s 4ms/step - loss: 81714777.9259 - mae: 6664.7059 - val_loss: 16057010.0000 - val_mae: 3456.3628\n",
      "Epoch 10/100\n",
      "26/26 [==============================] - 0s 5ms/step - loss: 78637984.4444 - mae: 7072.2425 - val_loss: 15675843.0000 - val_mae: 3417.2886\n",
      "Epoch 11/100\n",
      "26/26 [==============================] - 0s 5ms/step - loss: 84707952.0000 - mae: 7187.5064 - val_loss: 16248457.0000 - val_mae: 3467.1313\n",
      "Epoch 12/100\n",
      "26/26 [==============================] - 0s 5ms/step - loss: 70037086.0741 - mae: 6417.9293 - val_loss: 14686971.0000 - val_mae: 3309.4546\n",
      "Epoch 13/100\n",
      "26/26 [==============================] - 0s 4ms/step - loss: 74554539.3333 - mae: 6513.0505 - val_loss: 14751939.0000 - val_mae: 3319.5234\n",
      "Epoch 14/100\n",
      "26/26 [==============================] - 0s 5ms/step - loss: 72650064.2963 - mae: 6145.7881 - val_loss: 14849838.0000 - val_mae: 3327.8928\n",
      "Epoch 15/100\n",
      "26/26 [==============================] - 0s 4ms/step - loss: 77893975.7037 - mae: 6826.4541 - val_loss: 14182219.0000 - val_mae: 3256.5901\n",
      "Epoch 16/100\n",
      "26/26 [==============================] - 0s 5ms/step - loss: 58007048.2222 - mae: 6014.6654 - val_loss: 15906235.0000 - val_mae: 3434.4480\n",
      "Epoch 17/100\n",
      "26/26 [==============================] - 0s 5ms/step - loss: 73838438.0000 - mae: 6644.3885 - val_loss: 12980151.0000 - val_mae: 3105.2112\n",
      "Epoch 18/100\n",
      "26/26 [==============================] - 0s 4ms/step - loss: 57857973.3333 - mae: 5904.8591 - val_loss: 15460538.0000 - val_mae: 3404.8970\n",
      "Epoch 19/100\n",
      "26/26 [==============================] - 0s 5ms/step - loss: 61602952.5926 - mae: 6414.8452 - val_loss: 12251174.0000 - val_mae: 3024.7441\n",
      "Epoch 20/100\n",
      "26/26 [==============================] - 0s 5ms/step - loss: 70035881.6296 - mae: 6526.8568 - val_loss: 12679160.0000 - val_mae: 3087.7681\n",
      "Epoch 21/100\n",
      "26/26 [==============================] - 0s 6ms/step - loss: 70387998.8148 - mae: 6603.6155 - val_loss: 12039603.0000 - val_mae: 3007.9741\n",
      "Epoch 22/100\n",
      "26/26 [==============================] - 0s 5ms/step - loss: 54904644.7407 - mae: 5612.6681 - val_loss: 14768509.0000 - val_mae: 3373.1526\n",
      "Epoch 23/100\n",
      "26/26 [==============================] - 0s 6ms/step - loss: 50052536.9630 - mae: 5535.3679 - val_loss: 14650237.0000 - val_mae: 3374.6541\n",
      "Epoch 24/100\n",
      "26/26 [==============================] - 0s 5ms/step - loss: 52917189.3333 - mae: 6013.0961 - val_loss: 13027182.0000 - val_mae: 3165.3416\n",
      "Epoch 25/100\n",
      "26/26 [==============================] - 0s 5ms/step - loss: 55738160.1481 - mae: 5915.8626 - val_loss: 9905161.0000 - val_mae: 2706.7661\n",
      "Epoch 26/100\n",
      "26/26 [==============================] - 0s 6ms/step - loss: 41646089.5926 - mae: 5161.2995 - val_loss: 11655334.0000 - val_mae: 2992.5569\n",
      "Epoch 27/100\n",
      "26/26 [==============================] - 0s 5ms/step - loss: 42393330.6667 - mae: 5302.3379 - val_loss: 16809594.0000 - val_mae: 3694.6887\n",
      "Epoch 28/100\n",
      "26/26 [==============================] - 0s 5ms/step - loss: 34734050.2222 - mae: 4741.6097 - val_loss: 12590100.0000 - val_mae: 3167.2322\n",
      "Epoch 29/100\n",
      "26/26 [==============================] - 0s 5ms/step - loss: 40249203.0370 - mae: 5119.2805 - val_loss: 8641157.0000 - val_mae: 2541.7043\n",
      "Epoch 30/100\n",
      "26/26 [==============================] - 0s 5ms/step - loss: 38939799.5556 - mae: 4572.7641 - val_loss: 12448929.0000 - val_mae: 3159.4062\n",
      "Epoch 31/100\n",
      "26/26 [==============================] - 0s 5ms/step - loss: 35720960.2963 - mae: 4802.2876 - val_loss: 9305779.0000 - val_mae: 2667.3904\n",
      "Epoch 32/100\n",
      "26/26 [==============================] - 0s 5ms/step - loss: 40935588.5185 - mae: 4776.8384 - val_loss: 8922352.0000 - val_mae: 2592.4089\n",
      "Epoch 33/100\n",
      "26/26 [==============================] - 0s 6ms/step - loss: 47544431.6296 - mae: 5141.9872 - val_loss: 7346305.5000 - val_mae: 2274.8564\n",
      "Epoch 34/100\n",
      "26/26 [==============================] - 0s 8ms/step - loss: 27957040.2778 - mae: 3668.4480 - val_loss: 11265612.0000 - val_mae: 2953.9282\n",
      "Epoch 35/100\n",
      "26/26 [==============================] - 0s 5ms/step - loss: 33765969.2593 - mae: 4469.3049 - val_loss: 7944884.0000 - val_mae: 2342.8340\n",
      "Epoch 36/100\n",
      "26/26 [==============================] - 0s 5ms/step - loss: 19781375.6296 - mae: 3302.4840 - val_loss: 11307925.0000 - val_mae: 2926.9966\n",
      "Epoch 37/100\n",
      "26/26 [==============================] - 0s 5ms/step - loss: 15536295.3704 - mae: 2876.6884 - val_loss: 21332316.0000 - val_mae: 4206.6729\n",
      "Epoch 38/100\n",
      "26/26 [==============================] - 0s 4ms/step - loss: 19152527.0000 - mae: 3231.9140 - val_loss: 8452056.0000 - val_mae: 2445.9668\n",
      "Epoch 39/100\n",
      "26/26 [==============================] - 0s 4ms/step - loss: 30026743.6296 - mae: 3609.9520 - val_loss: 19223408.0000 - val_mae: 3897.1150\n",
      "Epoch 40/100\n",
      "26/26 [==============================] - 0s 4ms/step - loss: 22234321.4074 - mae: 3308.7269 - val_loss: 9627538.0000 - val_mae: 2640.3523\n",
      "Epoch 41/100\n",
      "26/26 [==============================] - 0s 4ms/step - loss: 15572503.4444 - mae: 2831.5935 - val_loss: 9510882.0000 - val_mae: 2615.8882\n",
      "Epoch 42/100\n",
      "26/26 [==============================] - 0s 5ms/step - loss: 16988170.7407 - mae: 2589.7060 - val_loss: 11675035.0000 - val_mae: 2932.5356\n",
      "Epoch 43/100\n",
      "26/26 [==============================] - 0s 4ms/step - loss: 18035377.2037 - mae: 2672.2213 - val_loss: 9380870.0000 - val_mae: 2584.0833\n",
      "Epoch 44/100\n",
      "26/26 [==============================] - 0s 4ms/step - loss: 15797870.2407 - mae: 2691.2868 - val_loss: 11018051.0000 - val_mae: 2825.2598\n",
      "Epoch 45/100\n",
      "26/26 [==============================] - 0s 4ms/step - loss: 11579446.4630 - mae: 2337.9552 - val_loss: 6563393.5000 - val_mae: 2097.3188\n",
      "Epoch 46/100\n",
      "26/26 [==============================] - 0s 4ms/step - loss: 12324361.1481 - mae: 2392.6868 - val_loss: 7317649.5000 - val_mae: 2215.5471\n",
      "Epoch 47/100\n",
      "26/26 [==============================] - 0s 4ms/step - loss: 17008631.8889 - mae: 2714.1468 - val_loss: 15795093.0000 - val_mae: 3433.0122\n",
      "Epoch 48/100\n",
      "26/26 [==============================] - 0s 4ms/step - loss: 12763421.6296 - mae: 2362.4751 - val_loss: 5886509.0000 - val_mae: 1944.4904\n",
      "Epoch 49/100\n",
      "26/26 [==============================] - 0s 4ms/step - loss: 13629984.9213 - mae: 2298.2870 - val_loss: 8205671.5000 - val_mae: 2359.8694\n",
      "Epoch 50/100\n",
      "26/26 [==============================] - 0s 4ms/step - loss: 11093286.7083 - mae: 2127.7498 - val_loss: 7070025.0000 - val_mae: 2189.3733\n",
      "Epoch 51/100\n",
      "26/26 [==============================] - 0s 5ms/step - loss: 12071202.8889 - mae: 2301.0987 - val_loss: 6535355.5000 - val_mae: 2106.7029\n",
      "Epoch 52/100\n",
      "26/26 [==============================] - 0s 4ms/step - loss: 11836163.4259 - mae: 2189.4632 - val_loss: 5410588.0000 - val_mae: 1870.3763\n",
      "Epoch 53/100\n",
      "26/26 [==============================] - 0s 5ms/step - loss: 19802266.0370 - mae: 2676.9408 - val_loss: 7851389.0000 - val_mae: 2316.0271\n",
      "Epoch 54/100\n",
      "26/26 [==============================] - 0s 4ms/step - loss: 16157818.6667 - mae: 2589.0644 - val_loss: 5333343.0000 - val_mae: 1829.5629\n",
      "Epoch 55/100\n"
     ]
    },
    {
     "name": "stdout",
     "output_type": "stream",
     "text": [
      "26/26 [==============================] - 0s 6ms/step - loss: 12031970.8970 - mae: 2110.9671 - val_loss: 6268883.5000 - val_mae: 2081.0156\n",
      "Epoch 56/100\n",
      "26/26 [==============================] - 0s 4ms/step - loss: 10028186.4086 - mae: 2170.0929 - val_loss: 5971291.5000 - val_mae: 2029.2169\n",
      "Epoch 57/100\n",
      "26/26 [==============================] - 0s 5ms/step - loss: 10509408.4815 - mae: 2283.1873 - val_loss: 5282271.0000 - val_mae: 1810.0121\n",
      "Epoch 58/100\n",
      "26/26 [==============================] - 0s 4ms/step - loss: 13244667.5556 - mae: 2460.1905 - val_loss: 7088934.0000 - val_mae: 2201.5798\n",
      "Epoch 59/100\n",
      "26/26 [==============================] - 0s 5ms/step - loss: 10949506.3194 - mae: 2264.3212 - val_loss: 5261181.5000 - val_mae: 1846.5345\n",
      "Epoch 60/100\n",
      "26/26 [==============================] - 0s 4ms/step - loss: 9955346.8426 - mae: 2194.9663 - val_loss: 5299657.0000 - val_mae: 1776.5759\n",
      "Epoch 61/100\n",
      "26/26 [==============================] - 0s 4ms/step - loss: 10666660.2037 - mae: 2191.5211 - val_loss: 6045338.0000 - val_mae: 2045.6946\n",
      "Epoch 62/100\n",
      "26/26 [==============================] - 0s 4ms/step - loss: 14840160.3889 - mae: 2574.5946 - val_loss: 5645464.5000 - val_mae: 1959.1912\n",
      "Epoch 63/100\n",
      "26/26 [==============================] - 0s 4ms/step - loss: 18847272.1111 - mae: 2795.5744 - val_loss: 5408744.5000 - val_mae: 1786.4307\n",
      "Epoch 64/100\n",
      "26/26 [==============================] - 0s 5ms/step - loss: 13800288.9259 - mae: 2505.7005 - val_loss: 5372239.5000 - val_mae: 1902.9868\n",
      "Epoch 65/100\n",
      "26/26 [==============================] - 0s 5ms/step - loss: 18595837.0370 - mae: 2785.1267 - val_loss: 8406869.0000 - val_mae: 2383.4897\n",
      "Epoch 66/100\n",
      "26/26 [==============================] - 0s 4ms/step - loss: 14024893.4074 - mae: 2531.4444 - val_loss: 5709828.0000 - val_mae: 1800.0033\n",
      "Epoch 67/100\n",
      "26/26 [==============================] - 0s 4ms/step - loss: 10110323.6852 - mae: 2225.3769 - val_loss: 8645237.0000 - val_mae: 2421.6628\n",
      "Epoch 68/100\n",
      "26/26 [==============================] - 0s 5ms/step - loss: 13260367.0463 - mae: 2554.8553 - val_loss: 5853379.5000 - val_mae: 1803.4120\n",
      "Epoch 69/100\n",
      "26/26 [==============================] - 0s 4ms/step - loss: 8470312.2176 - mae: 2001.4477 - val_loss: 5403036.0000 - val_mae: 1892.3636\n",
      "Epoch 70/100\n",
      "26/26 [==============================] - 0s 5ms/step - loss: 13042039.1852 - mae: 2155.0104 - val_loss: 5475799.0000 - val_mae: 1798.4844\n",
      "Epoch 71/100\n",
      "26/26 [==============================] - 0s 4ms/step - loss: 10514019.2037 - mae: 2114.7686 - val_loss: 5548550.0000 - val_mae: 1803.5990\n",
      "Epoch 72/100\n",
      "26/26 [==============================] - 0s 5ms/step - loss: 8978376.0874 - mae: 1894.8734 - val_loss: 5425628.5000 - val_mae: 1865.8943\n",
      "Epoch 73/100\n",
      "26/26 [==============================] - 0s 4ms/step - loss: 10748083.6481 - mae: 2237.2167 - val_loss: 7043827.0000 - val_mae: 2204.5149\n",
      "Epoch 74/100\n",
      "26/26 [==============================] - 0s 4ms/step - loss: 15264190.0000 - mae: 2692.3672 - val_loss: 5436537.0000 - val_mae: 1870.9191\n",
      "Epoch 75/100\n",
      "26/26 [==============================] - 0s 5ms/step - loss: 12632657.3704 - mae: 2346.4137 - val_loss: 5435185.0000 - val_mae: 1848.1025\n",
      "Epoch 76/100\n",
      "26/26 [==============================] - 0s 4ms/step - loss: 11155829.4815 - mae: 2125.2570 - val_loss: 5678297.0000 - val_mae: 1958.9052\n",
      "Epoch 77/100\n",
      "26/26 [==============================] - 0s 4ms/step - loss: 10330246.0370 - mae: 2272.6100 - val_loss: 5825904.0000 - val_mae: 1792.4314\n",
      "Epoch 78/100\n",
      "26/26 [==============================] - 0s 4ms/step - loss: 14429019.8148 - mae: 2480.8906 - val_loss: 5511232.5000 - val_mae: 1876.0983\n",
      "Epoch 79/100\n",
      "26/26 [==============================] - 0s 4ms/step - loss: 9049829.5926 - mae: 2226.8058 - val_loss: 6223836.0000 - val_mae: 1825.9838\n",
      "Epoch 80/100\n",
      "26/26 [==============================] - 0s 4ms/step - loss: 6740940.8981 - mae: 1816.5324 - val_loss: 5476357.5000 - val_mae: 1867.2247\n",
      "Epoch 81/100\n",
      "26/26 [==============================] - 0s 4ms/step - loss: 9401236.3553 - mae: 1928.4728 - val_loss: 5986962.0000 - val_mae: 2017.4141\n",
      "Epoch 82/100\n",
      "26/26 [==============================] - 0s 4ms/step - loss: 10872739.7037 - mae: 2299.6107 - val_loss: 5812413.0000 - val_mae: 1979.1719\n",
      "Epoch 83/100\n",
      "26/26 [==============================] - 0s 4ms/step - loss: 19046482.1852 - mae: 2895.5369 - val_loss: 5632774.0000 - val_mae: 1935.8228\n",
      "Epoch 84/100\n",
      "26/26 [==============================] - 0s 4ms/step - loss: 15222800.0370 - mae: 2641.0748 - val_loss: 8041237.5000 - val_mae: 2083.7605\n",
      "Epoch 85/100\n",
      "26/26 [==============================] - 0s 5ms/step - loss: 6418737.8125 - mae: 1651.3188 - val_loss: 7527361.0000 - val_mae: 2264.8198\n",
      "Epoch 86/100\n",
      "26/26 [==============================] - 0s 4ms/step - loss: 9342476.8333 - mae: 2209.4844 - val_loss: 6179855.0000 - val_mae: 2027.3014\n",
      "Epoch 87/100\n",
      "26/26 [==============================] - 0s 4ms/step - loss: 12244511.0185 - mae: 2405.9480 - val_loss: 7367808.0000 - val_mae: 1986.9368\n",
      "Epoch 88/100\n",
      "26/26 [==============================] - 0s 5ms/step - loss: 16926670.8148 - mae: 2511.1697 - val_loss: 5596293.5000 - val_mae: 1915.7498\n",
      "Epoch 89/100\n",
      "26/26 [==============================] - 0s 4ms/step - loss: 13190418.7222 - mae: 2460.9041 - val_loss: 7860169.0000 - val_mae: 2065.9578\n",
      "Epoch 90/100\n",
      "26/26 [==============================] - 0s 4ms/step - loss: 10704080.4074 - mae: 2251.5867 - val_loss: 5495138.5000 - val_mae: 1848.0688\n",
      "Epoch 91/100\n",
      "26/26 [==============================] - 0s 4ms/step - loss: 9223453.6574 - mae: 2163.1061 - val_loss: 7638856.5000 - val_mae: 2033.8010\n",
      "Epoch 92/100\n",
      "26/26 [==============================] - 0s 4ms/step - loss: 10793800.2037 - mae: 2436.6156 - val_loss: 5845147.5000 - val_mae: 1790.4954\n",
      "Epoch 93/100\n",
      "26/26 [==============================] - 0s 5ms/step - loss: 9932550.0741 - mae: 2256.9513 - val_loss: 6383389.5000 - val_mae: 1846.2902\n",
      "Epoch 94/100\n",
      "26/26 [==============================] - 0s 5ms/step - loss: 7067271.3056 - mae: 1899.9785 - val_loss: 5724754.5000 - val_mae: 1788.8630\n",
      "Epoch 95/100\n",
      "26/26 [==============================] - 0s 4ms/step - loss: 12051816.4074 - mae: 2299.3301 - val_loss: 7261329.5000 - val_mae: 1974.3536\n",
      "Epoch 96/100\n",
      "26/26 [==============================] - 0s 4ms/step - loss: 10920491.5185 - mae: 2286.5780 - val_loss: 5679194.5000 - val_mae: 1801.7686\n",
      "Epoch 97/100\n",
      "26/26 [==============================] - 0s 7ms/step - loss: 10196552.9259 - mae: 2249.6522 - val_loss: 6252986.5000 - val_mae: 1842.1384\n",
      "Epoch 98/100\n",
      "26/26 [==============================] - 0s 5ms/step - loss: 9497978.6667 - mae: 2216.9500 - val_loss: 5594557.0000 - val_mae: 1787.0532\n",
      "Epoch 99/100\n",
      "26/26 [==============================] - 0s 7ms/step - loss: 12173040.2593 - mae: 2523.6097 - val_loss: 5929140.0000 - val_mae: 1973.2887\n",
      "Epoch 100/100\n",
      "26/26 [==============================] - 0s 5ms/step - loss: 13884808.4722 - mae: 2608.9567 - val_loss: 5651940.0000 - val_mae: 1778.0049\n"
     ]
    }
   ],
   "source": [
    "model = build_model()\n",
    "#  6.Train the Model with Epochs (100) and validate it\n",
    "history = model.fit(x_train, y_train, validation_data=(x_val, y_val), epochs=100, batch_size=4, shuffle=True)"
   ]
  },
  {
   "cell_type": "code",
   "execution_count": 54,
   "metadata": {
    "scrolled": true
   },
   "outputs": [
    {
     "data": {
      "image/png": "[encoded data removed]",
      "text/plain": [
       "<Figure size 432x288 with 1 Axes>"
      ]
     },
     "metadata": {
      "needs_background": "light"
     },
     "output_type": "display_data"
    }
   ],
   "source": [
    "import matplotlib.pyplot as plt\n",
    "\n",
    "mae = history.history[\"mae\"]\n",
    "val_mae = history.history[\"val_mae\"]\n",
    "\n",
    "plt.plot(range(1, len(mae) + 1), mae)\n",
    "plt.plot(range(1, len(val_mae) + 1), val_mae)\n",
    "plt.xlabel('Epochs')\n",
    "plt.ylabel('Validation MAE')\n",
    "plt.show()"
   ]
  },
  {
   "cell_type": "code",
   "execution_count": 55,
   "metadata": {},
   "outputs": [
    {
     "name": "stdout",
     "output_type": "stream",
     "text": [
      "Mean Squared Error: 43719876.0\n",
      "Mean Absolute Error: 4265.32470703125\n"
     ]
    }
   ],
   "source": [
    "val_mse, val_mae = model.evaluate(x_test, y_test, verbose=0)\n",
    "print(\"Mean Squared Error:\",val_mse)\n",
    "print(\"Mean Absolute Error:\", val_mae)"
   ]
  },
  {
   "cell_type": "code",
   "execution_count": 56,
   "metadata": {},
   "outputs": [
    {
     "name": "stdout",
     "output_type": "stream",
     "text": [
      "WARNING:tensorflow:6 out of the last 9 calls to <function Model.make_predict_function.<locals>.predict_function at 0x7ff91cc08040> triggered tf.function retracing. Tracing is expensive and the excessive number of tracings could be due to (1) creating @tf.function repeatedly in a loop, (2) passing tensors with different shapes, (3) passing Python objects instead of tensors. For (1), please define your @tf.function outside of the loop. For (2), @tf.function has experimental_relax_shapes=True option that relaxes argument shapes that can avoid unnecessary retracing. For (3), please refer to https://www.tensorflow.org/guide/function#controlling_retracing and https://www.tensorflow.org/api_docs/python/tf/function for  more details.\n",
      "Predicted Price:  [[24335.664]]\n",
      "actual price 14399.0\n"
     ]
    }
   ],
   "source": [
    "data_to_predict = x_test.to_numpy()[0]\n",
    "data_to_predict = data_to_predict.reshape((-1, 24))\n",
    "prediction = model.predict([np.array(data_to_predict)])\n",
    "print(\"Predicted Price: \", prediction)\n",
    "print(\"actual price\", y_test[102])"
   ]
  },
  {
   "cell_type": "code",
   "execution_count": null,
   "metadata": {},
   "outputs": [],
   "source": []
  }
 ],
 "metadata": {
  "kernelspec": {
   "display_name": "Python 3",
   "language": "python",
   "name": "python3"
  },
  "language_info": {
   "codemirror_mode": {
    "name": "ipython",
    "version": 3
   },
   "file_extension": ".py",
   "mimetype": "text/x-python",
   "name": "python",
   "nbconvert_exporter": "python",
   "pygments_lexer": "ipython3",
   "version": "3.8.5"
  }
 },
 "nbformat": 4,
 "nbformat_minor": 2
}
