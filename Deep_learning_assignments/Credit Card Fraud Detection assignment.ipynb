{
 "cells": [
  {
   "cell_type": "markdown",
   "metadata": {},
   "source": [
    "# Credit Card Fraud Detection::"
   ]
  },
  {
   "cell_type": "markdown",
   "metadata": {},
   "source": [
    "Download dataset from this link:\n",
    "\n",
    "https://www.kaggle.com/mlg-ulb/creditcardfraud"
   ]
  },
  {
   "cell_type": "markdown",
   "metadata": {},
   "source": [
    "# Description about dataset::"
   ]
  },
  {
   "cell_type": "markdown",
   "metadata": {},
   "source": [
    "The datasets contains transactions made by credit cards in September 2013 by european cardholders.\n",
    "This dataset presents transactions that occurred in two days, where we have 492 frauds out of 284,807 transactions. The dataset is highly unbalanced, the positive class (frauds) account for 0.172% of all transactions.\n",
    "\n",
    "It contains only numerical input variables which are the result of a PCA transformation. Unfortunately, due to confidentiality issues, we cannot provide the original features and more background information about the data. Features V1, V2, … V28 are the principal components obtained with PCA, the only features which have not been transformed with PCA are 'Time' and 'Amount'. Feature 'Time' contains the seconds elapsed between each transaction and the first transaction in the dataset. The feature 'Amount' is the transaction Amount, this feature can be used for example-dependant cost-senstive learning. \n",
    "\n",
    "\n",
    "### Feature 'Class' is the response variable and it takes value 1 in case of fraud and 0 otherwise."
   ]
  },
  {
   "cell_type": "markdown",
   "metadata": {},
   "source": [
    "# WORKFLOW :"
   ]
  },
  {
   "cell_type": "markdown",
   "metadata": {},
   "source": [
    "1.Load Data\n",
    "\n",
    "2.Check Missing Values ( If Exist ; Fill each record with mean of its feature )\n",
    "\n",
    "3.Standardized the Input Variables. \n",
    "\n",
    "4.Split into 50% Training(Samples,Labels) , 30% Test(Samples,Labels) and 20% Validation Data(Samples,Labels).\n",
    "\n",
    "5.Model : input Layer (No. of features ), 3 hidden layers including 10,8,6 unit & Output Layer with activation function relu/tanh (check by experiment).\n",
    "\n",
    "6.Compilation Step (Note : Its a Binary problem , select loss , metrics according to it)\n",
    "\n",
    "7.Train the Model with Epochs (100).\n",
    "\n",
    "8.If the model gets overfit tune your model by changing the units , No. of layers , epochs , add dropout layer or add Regularizer according to the need .\n",
    "\n",
    "9.Prediction should be > 92%\n",
    "10.Evaluation Step\n",
    "11Prediction\n"
   ]
  },
  {
   "cell_type": "markdown",
   "metadata": {},
   "source": [
    "# Task::"
   ]
  },
  {
   "cell_type": "markdown",
   "metadata": {},
   "source": [
    "## Identify fraudulent credit card transactions."
   ]
  },
  {
   "cell_type": "code",
   "execution_count": 1,
   "metadata": {},
   "outputs": [],
   "source": [
    "import numpy as np\n",
    "import pandas as pd\n",
    "from tensorflow.keras import models, layers"
   ]
  },
  {
   "cell_type": "code",
   "execution_count": 3,
   "metadata": {},
   "outputs": [],
   "source": [
    "# 1.Load Data\n",
    "dataset = pd.read_csv(\"archive_1/creditcard.csv\")"
   ]
  },
  {
   "cell_type": "code",
   "execution_count": 4,
   "metadata": {},
   "outputs": [
    {
     "data": {
      "text/plain": [
       "Time      0\n",
       "V1        0\n",
       "V2        0\n",
       "V3        0\n",
       "V4        0\n",
       "V5        0\n",
       "V6        0\n",
       "V7        0\n",
       "V8        0\n",
       "V9        0\n",
       "V10       0\n",
       "V11       0\n",
       "V12       0\n",
       "V13       0\n",
       "V14       0\n",
       "V15       0\n",
       "V16       0\n",
       "V17       0\n",
       "V18       0\n",
       "V19       0\n",
       "V20       0\n",
       "V21       0\n",
       "V22       0\n",
       "V23       0\n",
       "V24       0\n",
       "V25       0\n",
       "V26       0\n",
       "V27       0\n",
       "V28       0\n",
       "Amount    0\n",
       "Class     0\n",
       "dtype: int64"
      ]
     },
     "execution_count": 4,
     "metadata": {},
     "output_type": "execute_result"
    }
   ],
   "source": [
    "# 2.Check Missing Values \n",
    "dataset.isna().sum()"
   ]
  },
  {
   "cell_type": "code",
   "execution_count": 5,
   "metadata": {},
   "outputs": [],
   "source": [
    "train_size = int(dataset.shape[0] * 0.5)\n",
    "test_size = int((dataset.shape[0] * 0.3) + train_size)\n",
    "\n",
    "y = dataset[\"Class\"]\n",
    "x = dataset.drop(\"Class\", axis=1)\n",
    "\n",
    "#4.Split into 50% Training(Samples,Labels) , 30% Test(Samples,Labels) and 20% Validation Data(Samples,Labels).\n",
    "\n",
    "x_train, x_test, x_validate = x[:train_size], x[train_size:test_size], x[test_size:]\n",
    "y_train, y_test, y_validate = y[:train_size], y[train_size:test_size], y[test_size:]"
   ]
  },
  {
   "cell_type": "code",
   "execution_count": 6,
   "metadata": {},
   "outputs": [],
   "source": [
    "# 3.Standardized the Input Variables.\n",
    "\n",
    "mean = x_train.mean()\n",
    "x_train -= mean\n",
    "std  = x_train.std()\n",
    "x_train /= std\n",
    "\n",
    "x_test -= mean\n",
    "x_test /= std\n",
    "x_validate -= mean\n",
    "x_validate /= std"
   ]
  },
  {
   "cell_type": "code",
   "execution_count": 7,
   "metadata": {},
   "outputs": [],
   "source": [
    "# 5.Model : input Layer (No. of features ), 3 hidden layers including 10,8,6 unit & Output Layer with activation function relu/tanh (check by experiment).\n",
    "def build_model():\n",
    "    model = models.Sequential()\n",
    "    model.add(layers.Dense(30, input_shape=(30,), activation=\"relu\"))\n",
    "    model.add(layers.Dense(10, activation=\"relu\"))\n",
    "    model.add(layers.Dense(8, activation=\"relu\"))\n",
    "    model.add(layers.Dense(3, activation=\"relu\"))\n",
    "    model.add(layers.Dense(1, activation=\"sigmoid\"))\n",
    "#     6.Compilation Step\n",
    "    model.compile(metrics=[\"accuracy\"], loss='binary_crossentropy', optimizer=\"rmsprop\")\n",
    "    \n",
    "    return model\n",
    "\n",
    "model = build_model()"
   ]
  },
  {
   "cell_type": "code",
   "execution_count": 9,
   "metadata": {},
   "outputs": [
    {
     "name": "stdout",
     "output_type": "stream",
     "text": [
      "Epoch 1/20\n",
      "2226/2226 [==============================] - 3s 1ms/step - loss: 0.0038 - accuracy: 0.9993 - val_loss: 0.0059 - val_accuracy: 0.9994\n",
      "Epoch 2/20\n",
      "2226/2226 [==============================] - 3s 1ms/step - loss: 0.0039 - accuracy: 0.9993 - val_loss: 0.0039 - val_accuracy: 0.9995\n",
      "Epoch 3/20\n",
      "2226/2226 [==============================] - 3s 1ms/step - loss: 0.0040 - accuracy: 0.9993 - val_loss: 0.0040 - val_accuracy: 0.9994\n",
      "Epoch 4/20\n",
      "2226/2226 [==============================] - 3s 1ms/step - loss: 0.0038 - accuracy: 0.9993 - val_loss: 0.0049 - val_accuracy: 0.9994\n",
      "Epoch 5/20\n",
      "2226/2226 [==============================] - 3s 1ms/step - loss: 0.0037 - accuracy: 0.9993 - val_loss: 0.0056 - val_accuracy: 0.9994\n",
      "Epoch 6/20\n",
      "2226/2226 [==============================] - 3s 1ms/step - loss: 0.0039 - accuracy: 0.9993 - val_loss: 0.0039 - val_accuracy: 0.9995\n",
      "Epoch 7/20\n",
      "2226/2226 [==============================] - 3s 1ms/step - loss: 0.0037 - accuracy: 0.9993 - val_loss: 0.0033 - val_accuracy: 0.9995\n",
      "Epoch 8/20\n",
      "2226/2226 [==============================] - 3s 1ms/step - loss: 0.0038 - accuracy: 0.9993 - val_loss: 0.0054 - val_accuracy: 0.9995\n",
      "Epoch 9/20\n",
      "2226/2226 [==============================] - 3s 1ms/step - loss: 0.0039 - accuracy: 0.9993 - val_loss: 0.0044 - val_accuracy: 0.9995\n",
      "Epoch 10/20\n",
      "2226/2226 [==============================] - 3s 1ms/step - loss: 0.0039 - accuracy: 0.9993 - val_loss: 0.0045 - val_accuracy: 0.9995\n",
      "Epoch 11/20\n",
      "2226/2226 [==============================] - 3s 1ms/step - loss: 0.0039 - accuracy: 0.9993 - val_loss: 0.0036 - val_accuracy: 0.9995\n",
      "Epoch 12/20\n",
      "2226/2226 [==============================] - 3s 1ms/step - loss: 0.0038 - accuracy: 0.9993 - val_loss: 0.0050 - val_accuracy: 0.9995\n",
      "Epoch 13/20\n",
      "2226/2226 [==============================] - 3s 1ms/step - loss: 0.0038 - accuracy: 0.9993 - val_loss: 0.0060 - val_accuracy: 0.9995\n",
      "Epoch 14/20\n",
      "2226/2226 [==============================] - 3s 1ms/step - loss: 0.0038 - accuracy: 0.9993 - val_loss: 0.0052 - val_accuracy: 0.9995\n",
      "Epoch 15/20\n",
      "2226/2226 [==============================] - 3s 1ms/step - loss: 0.0038 - accuracy: 0.9993 - val_loss: 0.0086 - val_accuracy: 0.9995\n",
      "Epoch 16/20\n",
      "2226/2226 [==============================] - 3s 1ms/step - loss: 0.0041 - accuracy: 0.9993 - val_loss: 0.0037 - val_accuracy: 0.9995\n",
      "Epoch 17/20\n",
      "2226/2226 [==============================] - 3s 1ms/step - loss: 0.0038 - accuracy: 0.9993 - val_loss: 0.0044 - val_accuracy: 0.9995\n",
      "Epoch 18/20\n",
      "2226/2226 [==============================] - 3s 1ms/step - loss: 0.0038 - accuracy: 0.9993 - val_loss: 0.0042 - val_accuracy: 0.9995\n",
      "Epoch 19/20\n",
      "2226/2226 [==============================] - 3s 1ms/step - loss: 0.0040 - accuracy: 0.9993 - val_loss: 0.0044 - val_accuracy: 0.9995\n",
      "Epoch 20/20\n",
      "2226/2226 [==============================] - 3s 1ms/step - loss: 0.0039 - accuracy: 0.9993 - val_loss: 0.0046 - val_accuracy: 0.9995\n"
     ]
    }
   ],
   "source": [
    "# 7.Train the Model with Epochs (100).\n",
    "history = model.fit(x_train, y_train, validation_data=(x_validate, y_validate), epochs=20, shuffle=True, batch_size=64)"
   ]
  },
  {
   "cell_type": "code",
   "execution_count": 11,
   "metadata": {},
   "outputs": [
    {
     "data": {
      "image/png": "[encoded data removed]",
      "text/plain": [
       "<Figure size 432x288 with 1 Axes>"
      ]
     },
     "metadata": {
      "needs_background": "light"
     },
     "output_type": "display_data"
    }
   ],
   "source": [
    "import matplotlib.pyplot as plt\n",
    "accuracy = history.history[\"accuracy\"]\n",
    "val_accuracy = history.history[\"val_accuracy\"]\n",
    "\n",
    "plt.plot(range(20), accuracy)\n",
    "plt.plot(range(20), val_accuracy)\n",
    "plt.show()\n"
   ]
  },
  {
   "cell_type": "code",
   "execution_count": 13,
   "metadata": {},
   "outputs": [
    {
     "name": "stdout",
     "output_type": "stream",
     "text": [
      "668/668 [==============================] - 1s 851us/step - loss: 0.0139 - accuracy: 0.9978\n",
      "\n",
      "And the Score is 100%\n"
     ]
    }
   ],
   "source": [
    "score = model.evaluate(x_test, y_test, batch_size=128)\n",
    "print('\\nAnd the Score is {:.0%}'.format(score[1]))\n",
    "# 9.Prediction should be > 92%"
   ]
  },
  {
   "cell_type": "code",
   "execution_count": 14,
   "metadata": {},
   "outputs": [],
   "source": [
    "# 11Prediction\n",
    "data_to_predict = x_test.to_numpy()[0]\n",
    "data_to_predict = data_to_predict.reshape((-1, 30))\n",
    "prediction = model.predict([np.array(data_to_predict)])"
   ]
  },
  {
   "cell_type": "code",
   "execution_count": 15,
   "metadata": {},
   "outputs": [
    {
     "name": "stdout",
     "output_type": "stream",
     "text": [
      "Predicted Value: [[1.6908714e-05]]\n"
     ]
    }
   ],
   "source": [
    "print(\"Predicted Value:\", prediction)"
   ]
  }
 ],
 "metadata": {
  "kernelspec": {
   "display_name": "Python 3",
   "language": "python",
   "name": "python3"
  },
  "language_info": {
   "codemirror_mode": {
    "name": "ipython",
    "version": 3
   },
   "file_extension": ".py",
   "mimetype": "text/x-python",
   "name": "python",
   "nbconvert_exporter": "python",
   "pygments_lexer": "ipython3",
   "version": "3.8.5"
  }
 },
 "nbformat": 4,
 "nbformat_minor": 2
}
