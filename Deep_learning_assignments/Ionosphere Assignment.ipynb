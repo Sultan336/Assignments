{
 "cells": [
  {
   "cell_type": "markdown",
   "metadata": {},
   "source": [
    "# Assignment: Ionosphere Data Problem\n",
    "\n",
    "### Dataset Description: \n",
    "\n",
    "This radar data was collected by a system in Goose Bay, Labrador. This system consists of a phased array of 16 high-frequency antennas with a total transmitted power on the order of 6.4 kilowatts. See the paper for more details. The targets were free electrons in the ionosphere. \"Good\" radar returns are those showing evidence of some type of structure in the ionosphere. \"Bad\" returns are those that do not; their signals pass through the ionosphere.\n",
    "\n",
    "Received signals were processed using an autocorrelation function whose arguments are the time of a pulse and the pulse number. There were 17 pulse numbers for the Goose Bay system. Instances in this databse are described by 2 attributes per pulse number, corresponding to the complex values returned by the function resulting from the complex electromagnetic signal.\n",
    "\n",
    "### Attribute Information:\n",
    "\n",
    "- All 34 are continuous\n",
    "- The 35th attribute is either \"good\" or \"bad\" according to the definition summarized above. This is a binary classification task.\n",
    "\n",
    " <br><br>\n",
    "\n",
    "<table border=\"1\"  cellpadding=\"6\">\n",
    "\t<tbody>\n",
    "        <tr>\n",
    "\t\t<td bgcolor=\"#DDEEFF\"><p class=\"normal\"><b>Data Set Characteristics:&nbsp;&nbsp;</b></p></td>\n",
    "\t\t<td><p class=\"normal\">Multivariate</p></td>\n",
    "\t\t<td bgcolor=\"#DDEEFF\"><p class=\"normal\"><b>Number of Instances:</b></p></td>\n",
    "\t\t<td><p class=\"normal\">351</p></td>\n",
    "\t\t<td bgcolor=\"#DDEEFF\"><p class=\"normal\"><b>Area:</b></p></td>\n",
    "\t\t<td><p class=\"normal\">Physical</p></td>\n",
    "        </tr>\n",
    "     </tbody>\n",
    "    </table>\n",
    "<table border=\"1\" cellpadding=\"6\">\n",
    "    <tbody>\n",
    "        <tr>\n",
    "            <td bgcolor=\"#DDEEFF\"><p class=\"normal\"><b>Attribute Characteristics:</b></p></td>\n",
    "            <td><p class=\"normal\">Integer,Real</p></td>\n",
    "            <td bgcolor=\"#DDEEFF\"><p class=\"normal\"><b>Number of Attributes:</b></p></td>\n",
    "            <td><p class=\"normal\">34</p></td>\n",
    "            <td bgcolor=\"#DDEEFF\"><p class=\"normal\"><b>Date Donated</b></p></td>\n",
    "            <td><p class=\"normal\">N/A</p></td>\n",
    "        </tr>\n",
    "     </tbody>\n",
    "    </table>\n",
    "<table border=\"1\" cellpadding=\"6\">\t\n",
    "    <tbody>\n",
    "    <tr>\n",
    "\t\t<td bgcolor=\"#DDEEFF\"><p class=\"normal\"><b>Associated Tasks:</b></p></td>\n",
    "\t\t<td><p class=\"normal\">Classification</p></td>\n",
    "\t\t<td bgcolor=\"#DDEEFF\"><p class=\"normal\"><b>Missing Values?</b></p></td>\n",
    "\t\t<td><p class=\"normal\">N/A</p></td>\n",
    "\t\t<td bgcolor=\"#DDEEFF\"><p class=\"normal\"><b>Number of Web Hits:</b></p></td>\n",
    "\t\t<td><p class=\"normal\">N/A</p></td>\n",
    "\t</tr>\n",
    "    </tbody>\n",
    "    </table>"
   ]
  },
  {
   "cell_type": "markdown",
   "metadata": {},
   "source": [
    "### WORKFLOW :\n",
    "- Load Data\n",
    "- Check Missing Values ( If Exist ; Fill each record with mean of its feature ) or any usless column.\n",
    "- Shuffle the data if needed.\n",
    "- Standardized the Input Variables. **Hint**: Centeralized the data\n",
    "- Split into 60 and 40 ratio.\n",
    "- Encode labels.\n",
    "- Model : 1 hidden layers including 16 unit.\n",
    "- Compilation Step (Note : Its a Binary problem , select loss , metrics according to it)\n",
    "- Train the Model with Epochs (100).\n",
    "- If the model gets overfit tune your model by changing the units , No. of layers , epochs , add dropout layer or add Regularizer according to the need .\n",
    "- Prediction should be > **92%**\n",
    "- Evaluation Step\n",
    "- Prediction\n"
   ]
  },
  {
   "cell_type": "markdown",
   "metadata": {},
   "source": [
    "# Load Data:\n",
    "[Click Here to Download DataSet](https://github.com/ramsha275/ML_Datasets/blob/main/ionosphere_data.csv)"
   ]
  },
  {
   "cell_type": "code",
   "execution_count": 1,
   "metadata": {},
   "outputs": [],
   "source": [
    "import numpy as np\n",
    "import pandas as pd\n",
    "from tensorflow.keras.models import Sequential\n",
    "from tensorflow.keras.layers import Dense, Dropout"
   ]
  },
  {
   "cell_type": "code",
   "execution_count": 3,
   "metadata": {},
   "outputs": [],
   "source": [
    "dataset = pd.read_csv(\"ionosphere_data.csv\")"
   ]
  },
  {
   "cell_type": "code",
   "execution_count": 4,
   "metadata": {},
   "outputs": [],
   "source": [
    "train_size = int(dataset.shape[0] * 0.6)"
   ]
  },
  {
   "cell_type": "code",
   "execution_count": 5,
   "metadata": {},
   "outputs": [
    {
     "name": "stdout",
     "output_type": "stream",
     "text": [
      "(34,)\n"
     ]
    }
   ],
   "source": [
    "y = dataset[\"label\"]\n",
    "x = dataset.drop([\"label\"], axis=1)\n",
    "input_shape = x.iloc[0, :].shape\n",
    "print(input_shape)\n",
    "x_train, x_test = x[:train_size], x[train_size:]\n",
    "y_train, y_test = y[:train_size], y[train_size:]"
   ]
  },
  {
   "cell_type": "code",
   "execution_count": 6,
   "metadata": {},
   "outputs": [],
   "source": [
    "from sklearn.preprocessing import LabelEncoder\n",
    "labelEncoder = LabelEncoder()\n",
    "\n",
    "y_train = labelEncoder.fit_transform(y_train)\n",
    "y_test = labelEncoder.fit_transform(y_test)"
   ]
  },
  {
   "cell_type": "code",
   "execution_count": 7,
   "metadata": {},
   "outputs": [
    {
     "name": "stdout",
     "output_type": "stream",
     "text": [
      "Epoch 1/80\n",
      "14/14 [==============================] - 1s 1ms/step - loss: 0.6409 - accuracy: 0.6534\n",
      "Epoch 2/80\n",
      "14/14 [==============================] - 0s 2ms/step - loss: 0.5294 - accuracy: 0.8153\n",
      "Epoch 3/80\n",
      "14/14 [==============================] - 0s 2ms/step - loss: 0.5239 - accuracy: 0.7825\n",
      "Epoch 4/80\n",
      "14/14 [==============================] - 0s 2ms/step - loss: 0.5038 - accuracy: 0.7590\n",
      "Epoch 5/80\n",
      "14/14 [==============================] - 0s 1ms/step - loss: 0.4744 - accuracy: 0.8144\n",
      "Epoch 6/80\n",
      "14/14 [==============================] - 0s 2ms/step - loss: 0.3952 - accuracy: 0.8782\n",
      "Epoch 7/80\n",
      "14/14 [==============================] - 0s 2ms/step - loss: 0.4069 - accuracy: 0.8782\n",
      "Epoch 8/80\n",
      "14/14 [==============================] - 0s 2ms/step - loss: 0.3572 - accuracy: 0.8984\n",
      "Epoch 9/80\n",
      "14/14 [==============================] - 0s 2ms/step - loss: 0.3513 - accuracy: 0.8733\n",
      "Epoch 10/80\n",
      "14/14 [==============================] - 0s 2ms/step - loss: 0.3298 - accuracy: 0.9128\n",
      "Epoch 11/80\n",
      "14/14 [==============================] - 0s 2ms/step - loss: 0.3016 - accuracy: 0.9223\n",
      "Epoch 12/80\n",
      "14/14 [==============================] - 0s 2ms/step - loss: 0.2668 - accuracy: 0.9200\n",
      "Epoch 13/80\n",
      "14/14 [==============================] - 0s 2ms/step - loss: 0.2870 - accuracy: 0.9053\n",
      "Epoch 14/80\n",
      "14/14 [==============================] - ETA: 0s - loss: 0.2195 - accuracy: 0.87 - 0s 3ms/step - loss: 0.2391 - accuracy: 0.9313\n",
      "Epoch 15/80\n",
      "14/14 [==============================] - 0s 3ms/step - loss: 0.2404 - accuracy: 0.9278\n",
      "Epoch 16/80\n",
      "14/14 [==============================] - 0s 2ms/step - loss: 0.2181 - accuracy: 0.9250\n",
      "Epoch 17/80\n",
      "14/14 [==============================] - 0s 2ms/step - loss: 0.1788 - accuracy: 0.9565\n",
      "Epoch 18/80\n",
      "14/14 [==============================] - 0s 2ms/step - loss: 0.2016 - accuracy: 0.9235\n",
      "Epoch 19/80\n",
      "14/14 [==============================] - 0s 2ms/step - loss: 0.2137 - accuracy: 0.9243\n",
      "Epoch 20/80\n",
      "14/14 [==============================] - 0s 2ms/step - loss: 0.1706 - accuracy: 0.9428\n",
      "Epoch 21/80\n",
      "14/14 [==============================] - 0s 1ms/step - loss: 0.1777 - accuracy: 0.9336\n",
      "Epoch 22/80\n",
      "14/14 [==============================] - 0s 2ms/step - loss: 0.1508 - accuracy: 0.9588\n",
      "Epoch 23/80\n",
      "14/14 [==============================] - 0s 2ms/step - loss: 0.1234 - accuracy: 0.9541\n",
      "Epoch 24/80\n",
      "14/14 [==============================] - 0s 1ms/step - loss: 0.1518 - accuracy: 0.9452\n",
      "Epoch 25/80\n",
      "14/14 [==============================] - 0s 2ms/step - loss: 0.1368 - accuracy: 0.9394\n",
      "Epoch 26/80\n",
      "14/14 [==============================] - 0s 1ms/step - loss: 0.1322 - accuracy: 0.9363\n",
      "Epoch 27/80\n",
      "14/14 [==============================] - 0s 2ms/step - loss: 0.1410 - accuracy: 0.9543\n",
      "Epoch 28/80\n",
      "14/14 [==============================] - 0s 1ms/step - loss: 0.0966 - accuracy: 0.9745\n",
      "Epoch 29/80\n",
      "14/14 [==============================] - 0s 2ms/step - loss: 0.1267 - accuracy: 0.9635\n",
      "Epoch 30/80\n",
      "14/14 [==============================] - 0s 2ms/step - loss: 0.0958 - accuracy: 0.9662\n",
      "Epoch 31/80\n",
      "14/14 [==============================] - 0s 2ms/step - loss: 0.1213 - accuracy: 0.9490\n",
      "Epoch 32/80\n",
      "14/14 [==============================] - 0s 2ms/step - loss: 0.0853 - accuracy: 0.9823\n",
      "Epoch 33/80\n",
      "14/14 [==============================] - 0s 1ms/step - loss: 0.0923 - accuracy: 0.9789\n",
      "Epoch 34/80\n",
      "14/14 [==============================] - 0s 2ms/step - loss: 0.1127 - accuracy: 0.9660\n",
      "Epoch 35/80\n",
      "14/14 [==============================] - 0s 2ms/step - loss: 0.0934 - accuracy: 0.9768\n",
      "Epoch 36/80\n",
      "14/14 [==============================] - 0s 2ms/step - loss: 0.0617 - accuracy: 0.9925\n",
      "Epoch 37/80\n",
      "14/14 [==============================] - 0s 2ms/step - loss: 0.0748 - accuracy: 0.9927\n",
      "Epoch 38/80\n",
      "14/14 [==============================] - 0s 2ms/step - loss: 0.0761 - accuracy: 0.9892\n",
      "Epoch 39/80\n",
      "14/14 [==============================] - 0s 2ms/step - loss: 0.0857 - accuracy: 0.9819\n",
      "Epoch 40/80\n",
      "14/14 [==============================] - 0s 2ms/step - loss: 0.0806 - accuracy: 0.9880\n",
      "Epoch 41/80\n",
      "14/14 [==============================] - 0s 2ms/step - loss: 0.0673 - accuracy: 0.9867\n",
      "Epoch 42/80\n",
      "14/14 [==============================] - 0s 1ms/step - loss: 0.0481 - accuracy: 0.9908\n",
      "Epoch 43/80\n",
      "14/14 [==============================] - 0s 2ms/step - loss: 0.0743 - accuracy: 0.9822\n",
      "Epoch 44/80\n",
      "14/14 [==============================] - 0s 2ms/step - loss: 0.0642 - accuracy: 0.9894\n",
      "Epoch 45/80\n",
      "14/14 [==============================] - 0s 1ms/step - loss: 0.1017 - accuracy: 0.9712\n",
      "Epoch 46/80\n",
      "14/14 [==============================] - 0s 2ms/step - loss: 0.0460 - accuracy: 0.9831\n",
      "Epoch 47/80\n",
      "14/14 [==============================] - 0s 2ms/step - loss: 0.0394 - accuracy: 0.9914\n",
      "Epoch 48/80\n",
      "14/14 [==============================] - 0s 2ms/step - loss: 0.0343 - accuracy: 0.9918\n",
      "Epoch 49/80\n",
      "14/14 [==============================] - 0s 2ms/step - loss: 0.0592 - accuracy: 0.9815\n",
      "Epoch 50/80\n",
      "14/14 [==============================] - 0s 2ms/step - loss: 0.0667 - accuracy: 0.9848\n",
      "Epoch 51/80\n",
      "14/14 [==============================] - 0s 2ms/step - loss: 0.0325 - accuracy: 0.9974\n",
      "Epoch 52/80\n",
      "14/14 [==============================] - 0s 2ms/step - loss: 0.0414 - accuracy: 0.9903\n",
      "Epoch 53/80\n",
      "14/14 [==============================] - 0s 2ms/step - loss: 0.0451 - accuracy: 0.9938\n",
      "Epoch 54/80\n",
      "14/14 [==============================] - 0s 2ms/step - loss: 0.0335 - accuracy: 0.9969\n",
      "Epoch 55/80\n",
      "14/14 [==============================] - 0s 2ms/step - loss: 0.0516 - accuracy: 0.9921\n",
      "Epoch 56/80\n",
      "14/14 [==============================] - 0s 1ms/step - loss: 0.0514 - accuracy: 0.9907\n",
      "Epoch 57/80\n",
      "14/14 [==============================] - 0s 2ms/step - loss: 0.0405 - accuracy: 0.9911\n",
      "Epoch 58/80\n",
      "14/14 [==============================] - 0s 2ms/step - loss: 0.0596 - accuracy: 0.9826\n",
      "Epoch 59/80\n",
      "14/14 [==============================] - 0s 2ms/step - loss: 0.0386 - accuracy: 0.9922\n",
      "Epoch 60/80\n",
      "14/14 [==============================] - 0s 2ms/step - loss: 0.0409 - accuracy: 0.9911\n",
      "Epoch 61/80\n",
      "14/14 [==============================] - 0s 2ms/step - loss: 0.0391 - accuracy: 0.9935\n",
      "Epoch 62/80\n",
      "14/14 [==============================] - 0s 2ms/step - loss: 0.0317 - accuracy: 0.9935\n",
      "Epoch 63/80\n",
      "14/14 [==============================] - 0s 2ms/step - loss: 0.0309 - accuracy: 0.9943\n",
      "Epoch 64/80\n",
      "14/14 [==============================] - 0s 2ms/step - loss: 0.0353 - accuracy: 0.9911\n",
      "Epoch 65/80\n",
      "14/14 [==============================] - 0s 2ms/step - loss: 0.0371 - accuracy: 0.9848\n",
      "Epoch 66/80\n",
      "14/14 [==============================] - 0s 2ms/step - loss: 0.0420 - accuracy: 0.9893\n",
      "Epoch 67/80\n",
      "14/14 [==============================] - 0s 2ms/step - loss: 0.0242 - accuracy: 0.9950\n",
      "Epoch 68/80\n",
      "14/14 [==============================] - 0s 2ms/step - loss: 0.0487 - accuracy: 0.9836\n",
      "Epoch 69/80\n",
      "14/14 [==============================] - 0s 2ms/step - loss: 0.0196 - accuracy: 0.9956\n",
      "Epoch 70/80\n",
      "14/14 [==============================] - 0s 2ms/step - loss: 0.0249 - accuracy: 0.9947\n",
      "Epoch 71/80\n",
      "14/14 [==============================] - 0s 2ms/step - loss: 0.0167 - accuracy: 0.9966\n",
      "Epoch 72/80\n",
      "14/14 [==============================] - 0s 1ms/step - loss: 0.0165 - accuracy: 0.9946\n",
      "Epoch 73/80\n",
      "14/14 [==============================] - 0s 2ms/step - loss: 0.0178 - accuracy: 0.9954\n",
      "Epoch 74/80\n",
      "14/14 [==============================] - 0s 1ms/step - loss: 0.0240 - accuracy: 0.9901\n",
      "Epoch 75/80\n",
      "14/14 [==============================] - 0s 2ms/step - loss: 0.0257 - accuracy: 0.9848\n",
      "Epoch 76/80\n",
      "14/14 [==============================] - 0s 1ms/step - loss: 0.0271 - accuracy: 0.9948\n",
      "Epoch 77/80\n",
      "14/14 [==============================] - 0s 2ms/step - loss: 0.0465 - accuracy: 0.9861\n",
      "Epoch 78/80\n",
      "14/14 [==============================] - 0s 1ms/step - loss: 0.0182 - accuracy: 0.9942\n",
      "Epoch 79/80\n",
      "14/14 [==============================] - 0s 2ms/step - loss: 0.0154 - accuracy: 0.9928\n",
      "Epoch 80/80\n",
      "14/14 [==============================] - 0s 2ms/step - loss: 0.0171 - accuracy: 0.9979\n"
     ]
    }
   ],
   "source": [
    "def build_model():\n",
    "    model = Sequential()\n",
    "    model.add(Dense(34, input_shape=input_shape, activation=\"relu\"))\n",
    "    model.add(Dense(16, activation=\"relu\"))\n",
    "    model.add(Dense(1, activation=\"sigmoid\"))\n",
    "    model.compile(metrics=[\"accuracy\"], loss=\"binary_crossentropy\", optimizer=\"rmsprop\")\n",
    "    return model\n",
    "\n",
    "model = build_model()\n",
    "\n",
    "history = model.fit(x_train, y_train, epochs=80, batch_size=16)"
   ]
  },
  {
   "cell_type": "code",
   "execution_count": 8,
   "metadata": {},
   "outputs": [
    {
     "data": {
      "image/png": "[encoded data removed]",
      "text/plain": [
       "<Figure size 432x288 with 1 Axes>"
      ]
     },
     "metadata": {
      "needs_background": "light"
     },
     "output_type": "display_data"
    }
   ],
   "source": [
    "import matplotlib.pyplot as plt\n",
    "accuracy = history.history[\"accuracy\"]\n",
    "plt.plot(range(80), accuracy)\n",
    "plt.show()"
   ]
  },
  {
   "cell_type": "code",
   "execution_count": 9,
   "metadata": {},
   "outputs": [
    {
     "name": "stdout",
     "output_type": "stream",
     "text": [
      "9/9 [==============================] - 0s 987us/step - loss: 0.1012 - accuracy: 0.9787\n",
      "Accuracy: 98%, Loss: 10%\n"
     ]
    }
   ],
   "source": [
    "prediction_score = model.evaluate(x_test, y_test, batch_size=16)\n",
    "print(\"Accuracy: {:.0%}, Loss: {:.0%}\".format(prediction_score[1], prediction_score[0]))"
   ]
  },
  {
   "cell_type": "code",
   "execution_count": 10,
   "metadata": {},
   "outputs": [],
   "source": [
    "data_to_predict = x_test.to_numpy()[0]\n",
    "data_to_predict = data_to_predict.reshape((-1, 34))"
   ]
  },
  {
   "cell_type": "code",
   "execution_count": 12,
   "metadata": {},
   "outputs": [
    {
     "data": {
      "text/plain": [
       "array([[3.8124143e-11]], dtype=float32)"
      ]
     },
     "execution_count": 12,
     "metadata": {},
     "output_type": "execute_result"
    }
   ],
   "source": [
    "prediction = model.predict([np.array(data_to_predict)])\n",
    "prediction"
   ]
  }
 ],
 "metadata": {
  "kernelspec": {
   "display_name": "Python 3",
   "language": "python",
   "name": "python3"
  },
  "language_info": {
   "codemirror_mode": {
    "name": "ipython",
    "version": 3
   },
   "file_extension": ".py",
   "mimetype": "text/x-python",
   "name": "python",
   "nbconvert_exporter": "python",
   "pygments_lexer": "ipython3",
   "version": "3.8.5"
  }
 },
 "nbformat": 4,
 "nbformat_minor": 2
}
